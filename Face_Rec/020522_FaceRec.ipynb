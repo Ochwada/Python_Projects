{
 "cells": [
  {
   "cell_type": "markdown",
   "id": "d51ea851",
   "metadata": {},
   "source": [
    "# Face Recognition "
   ]
  },
  {
   "cell_type": "code",
   "execution_count": null,
   "id": "91c5d42e",
   "metadata": {},
   "outputs": [],
   "source": [
    "import cv2\n",
    "import numpy as np\n",
    "import os \n",
    "import time"
   ]
  }
 ],
 "metadata": {
  "interpreter": {
   "hash": "e8938a2f7c5fdda35e8d7bfb30a5b3b2c35b6a28daa54657ac91665a0dc0a4a1"
  },
  "kernelspec": {
   "display_name": "Python 3.9.7 ('data_analysis')",
   "language": "python",
   "name": "python3"
  },
  "language_info": {
   "codemirror_mode": {
    "name": "ipython",
    "version": 3
   },
   "file_extension": ".py",
   "mimetype": "text/x-python",
   "name": "python",
   "nbconvert_exporter": "python",
   "pygments_lexer": "ipython3",
   "version": "3.9.7"
  }
 },
 "nbformat": 4,
 "nbformat_minor": 5
}
