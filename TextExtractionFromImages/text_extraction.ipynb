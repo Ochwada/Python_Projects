{
 "cells": [
  {
   "cell_type": "code",
   "execution_count": 1,
   "metadata": {},
   "outputs": [],
   "source": [
    "import pytesseract as pyt\n",
    "import cv2"
   ]
  },
  {
   "cell_type": "code",
   "execution_count": 2,
   "metadata": {},
   "outputs": [],
   "source": [
    "# open the image\n",
    "image  = cv2.imread('The_Zen_of_Python.jpeg')\n",
    "cv2.imshow('Result', image)\n",
    "cv2.waitKey(10000)\n",
    "cv2.destroyAllWindows()"
   ]
  },
  {
   "cell_type": "code",
   "execution_count": 3,
   "metadata": {},
   "outputs": [
    {
     "name": "stdout",
     "output_type": "stream",
     "text": [
      "Seer - SASPLCON-N40102~5 pytnons\n",
      "python 3.8.5 (default, May 27 2621, 13:30:53)\n",
      "\n",
      "[occ 9.3.0} on Linux\n",
      "\n",
      "Type “help”, \"copyright\", “credits” or “License” for more information.\n",
      ">>> import thts\n",
      "\n",
      "The Zen of Python, by Tin Peters\n",
      "\n",
      "Beautiful ts better than ugly.\n",
      "Explicit ts better than inplictt.\n",
      "\n",
      "Simple ts better than conplex.\n",
      "\n",
      "Complex is better than complicated.\n",
      "\n",
      "Flat ts better than nested.\n",
      "\n",
      "Sparse ts better than dense.\n",
      "\n",
      "Readability counts.\n",
      "\n",
      "Spectal cases aren't spectal enough to break the rules.\n",
      "\n",
      "Although practicality beats purity.\n",
      "\n",
      "Errors should never pass silently.\n",
      "\n",
      "unless explicitly silenced.\n",
      "\n",
      "In the face of anbiguity, refuse the temptation to guess.\n",
      "\n",
      "There should be one-- and preferably only one --obvious way to do it.\n",
      "Although that way may not be obvious at first unless you're Dutch.\n",
      "Now 1s better than never.\n",
      "\n",
      "Although never ts often better than *right* now.\n",
      "\n",
      "If the implementation is hard to explain, it's a bad idea.\n",
      "\n",
      "If the implementation is easy to explain, it may be a good idea.\n",
      "Namespaces are one honking great idea -- let's do more of those!\n",
      "\n",
      "\n"
     ]
    }
   ],
   "source": [
    "print(pyt.image_to_string(image))"
   ]
  },
  {
   "cell_type": "code",
   "execution_count": null,
   "metadata": {},
   "outputs": [],
   "source": []
  }
 ],
 "metadata": {
  "interpreter": {
   "hash": "87431800e0a45bfcff2356a57b193a52a1eb8c4f9c50efacd004c33b58a68262"
  },
  "kernelspec": {
   "display_name": "Python 3.9.12 ('data_analyst')",
   "language": "python",
   "name": "python3"
  },
  "language_info": {
   "codemirror_mode": {
    "name": "ipython",
    "version": 3
   },
   "file_extension": ".py",
   "mimetype": "text/x-python",
   "name": "python",
   "nbconvert_exporter": "python",
   "pygments_lexer": "ipython3",
   "version": "3.9.12"
  },
  "orig_nbformat": 4
 },
 "nbformat": 4,
 "nbformat_minor": 2
}
